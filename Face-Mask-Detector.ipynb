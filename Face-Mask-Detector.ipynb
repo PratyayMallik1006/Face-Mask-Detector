{
 "cells": [
  {
   "cell_type": "markdown",
   "id": "83c34c34",
   "metadata": {},
   "source": [
    "# Data Preprocessing"
   ]
  },
  {
   "cell_type": "code",
   "execution_count": 1,
   "id": "ffe8b92e",
   "metadata": {},
   "outputs": [
    {
     "name": "stdout",
     "output_type": "stream",
     "text": [
      "{'with mask': 0, 'without mask': 1}\n",
      "['with mask', 'without mask']\n",
      "[0, 1]\n"
     ]
    }
   ],
   "source": [
    "import cv2,os\n",
    "\n",
    "data_path='dataset'\n",
    "categories=os.listdir(data_path)\n",
    "labels=[i for i in range(len(categories))]\n",
    "\n",
    "label_dict=dict(zip(categories,labels)) #empty dictionary\n",
    "\n",
    "print(label_dict)\n",
    "print(categories)\n",
    "print(labels)"
   ]
  },
  {
   "cell_type": "code",
   "execution_count": 2,
   "id": "a5a91b4e",
   "metadata": {},
   "outputs": [],
   "source": [
    "img_size=100\n",
    "data=[]\n",
    "target=[]\n",
    "\n",
    "\n",
    "for category in categories:\n",
    "    folder_path=os.path.join(data_path,category)\n",
    "    img_names=os.listdir(folder_path)\n",
    "        \n",
    "    for img_name in img_names:\n",
    "        img_path=os.path.join(folder_path,img_name)\n",
    "        img=cv2.imread(img_path)\n",
    "\n",
    "        try:\n",
    "            gray=cv2.cvtColor(img,cv2.COLOR_BGR2GRAY)           \n",
    "            #Coverting the image into gray scale\n",
    "            resized=cv2.resize(gray,(img_size,img_size))\n",
    "            #resizing the gray scale into 50x50\n",
    "            data.append(resized)\n",
    "            target.append(label_dict[category])\n",
    "        \n",
    "        except Exception as e:\n",
    "            print('Exception:',e)"
   ]
  },
  {
   "cell_type": "code",
   "execution_count": 3,
   "id": "5ce0274d",
   "metadata": {},
   "outputs": [],
   "source": [
    "import numpy as np\n",
    "\n",
    "data=np.array(data)/255.0\n",
    "data=np.reshape(data,(data.shape[0],img_size,img_size,1))\n",
    "target=np.array(target)\n",
    "\n",
    "from keras.utils import np_utils\n",
    "\n",
    "new_target=np_utils.to_categorical(target)"
   ]
  },
  {
   "cell_type": "markdown",
   "id": "79372b22",
   "metadata": {},
   "source": [
    "# Training CNN"
   ]
  },
  {
   "cell_type": "code",
   "execution_count": 4,
   "id": "a99bd79f",
   "metadata": {},
   "outputs": [],
   "source": [
    "np.save('data',data)\n",
    "np.save('target',new_target)"
   ]
  },
  {
   "cell_type": "code",
   "execution_count": 5,
   "id": "c675f6b8",
   "metadata": {},
   "outputs": [],
   "source": [
    "import numpy as np\n",
    "\n",
    "data=np.load('data.npy')\n",
    "target=np.load('target.npy')"
   ]
  },
  {
   "cell_type": "code",
   "execution_count": 6,
   "id": "11d9ae01",
   "metadata": {},
   "outputs": [],
   "source": [
    "from keras.models import Sequential\n",
    "from keras.layers import Dense,Activation,Flatten,Dropout\n",
    "from keras.layers import Conv2D,MaxPooling2D\n",
    "from keras.callbacks import ModelCheckpoint\n",
    "\n",
    "model=Sequential()\n",
    "\n",
    "model.add(Conv2D(200,(3,3),input_shape=data.shape[1:]))\n",
    "model.add(Activation('relu'))\n",
    "model.add(MaxPooling2D(pool_size=(2,2)))\n",
    "#The first CNN layer followed by Relu and MaxPooling layers\n",
    "\n",
    "model.add(Conv2D(100,(3,3)))\n",
    "model.add(Activation('relu'))\n",
    "model.add(MaxPooling2D(pool_size=(2,2)))\n",
    "#The second convolution layer followed by Relu and MaxPooling layers\n",
    "\n",
    "model.add(Flatten())\n",
    "model.add(Dropout(0.5))\n",
    "#Flatten layer to stack the output convolutions from second convolution layer\n",
    "model.add(Dense(50,activation='relu'))\n",
    "#Dense layer of 64 neurons\n",
    "model.add(Dense(2,activation='softmax'))\n",
    "#The Final layer with two outputs for two categories\n",
    "\n",
    "model.compile(loss='categorical_crossentropy',optimizer='adam',metrics=['accuracy'])"
   ]
  },
  {
   "cell_type": "code",
   "execution_count": 7,
   "id": "213767dd",
   "metadata": {},
   "outputs": [],
   "source": [
    "from sklearn.model_selection import train_test_split\n",
    "\n",
    "train_data,test_data,train_target,test_target=train_test_split(data,target,test_size=0.1)"
   ]
  },
  {
   "cell_type": "code",
   "execution_count": 8,
   "id": "ac92ec0d",
   "metadata": {},
   "outputs": [
    {
     "name": "stdout",
     "output_type": "stream",
     "text": [
      "Epoch 1/20\n",
      "31/31 [==============================] - ETA: 0s - loss: 0.7223 - accuracy: 0.5616WARNING:tensorflow:From D:\\anaconda\\lib\\site-packages\\tensorflow\\python\\training\\tracking\\tracking.py:111: Model.state_updates (from tensorflow.python.keras.engine.training) is deprecated and will be removed in a future version.\n",
      "Instructions for updating:\n",
      "This property should not be used in TensorFlow 2.0, as updates are applied automatically.\n",
      "WARNING:tensorflow:From D:\\anaconda\\lib\\site-packages\\tensorflow\\python\\training\\tracking\\tracking.py:111: Layer.updates (from tensorflow.python.keras.engine.base_layer) is deprecated and will be removed in a future version.\n",
      "Instructions for updating:\n",
      "This property should not be used in TensorFlow 2.0, as updates are applied automatically.\n",
      "INFO:tensorflow:Assets written to: model-001.model\\assets\n",
      "31/31 [==============================] - 69s 2s/step - loss: 0.7223 - accuracy: 0.5616 - val_loss: 0.6300 - val_accuracy: 0.7097\n",
      "Epoch 2/20\n",
      "31/31 [==============================] - ETA: 0s - loss: 0.5796 - accuracy: 0.7010INFO:tensorflow:Assets written to: model-002.model\\assets\n",
      "31/31 [==============================] - 59s 2s/step - loss: 0.5796 - accuracy: 0.7010 - val_loss: 0.4787 - val_accuracy: 0.7823\n",
      "Epoch 3/20\n",
      "31/31 [==============================] - ETA: 0s - loss: 0.4213 - accuracy: 0.8091INFO:tensorflow:Assets written to: model-003.model\\assets\n",
      "31/31 [==============================] - 64s 2s/step - loss: 0.4213 - accuracy: 0.8091 - val_loss: 0.3643 - val_accuracy: 0.8427\n",
      "Epoch 4/20\n",
      "31/31 [==============================] - 67s 2s/step - loss: 0.3591 - accuracy: 0.8596 - val_loss: 0.4185 - val_accuracy: 0.7581\n",
      "Epoch 5/20\n",
      "31/31 [==============================] - ETA: 0s - loss: 0.2810 - accuracy: 0.8869INFO:tensorflow:Assets written to: model-005.model\\assets\n",
      "31/31 [==============================] - 72s 2s/step - loss: 0.2810 - accuracy: 0.8869 - val_loss: 0.3196 - val_accuracy: 0.8589\n",
      "Epoch 6/20\n",
      "31/31 [==============================] - ETA: 0s - loss: 0.2243 - accuracy: 0.9141INFO:tensorflow:Assets written to: model-006.model\\assets\n",
      "31/31 [==============================] - 66s 2s/step - loss: 0.2243 - accuracy: 0.9141 - val_loss: 0.2105 - val_accuracy: 0.9194\n",
      "Epoch 7/20\n",
      "31/31 [==============================] - ETA: 0s - loss: 0.1900 - accuracy: 0.9263INFO:tensorflow:Assets written to: model-007.model\\assets\n",
      "31/31 [==============================] - 66s 2s/step - loss: 0.1900 - accuracy: 0.9263 - val_loss: 0.2021 - val_accuracy: 0.9234\n",
      "Epoch 8/20\n",
      "31/31 [==============================] - 62s 2s/step - loss: 0.1827 - accuracy: 0.9323 - val_loss: 0.2184 - val_accuracy: 0.9113\n",
      "Epoch 9/20\n",
      "31/31 [==============================] - ETA: 0s - loss: 0.1347 - accuracy: 0.9525INFO:tensorflow:Assets written to: model-009.model\\assets\n",
      "31/31 [==============================] - 63s 2s/step - loss: 0.1347 - accuracy: 0.9525 - val_loss: 0.1738 - val_accuracy: 0.9315\n",
      "Epoch 10/20\n",
      "31/31 [==============================] - 53s 2s/step - loss: 0.1249 - accuracy: 0.9576 - val_loss: 0.1849 - val_accuracy: 0.9234\n",
      "Epoch 11/20\n",
      "31/31 [==============================] - ETA: 0s - loss: 0.0953 - accuracy: 0.9687INFO:tensorflow:Assets written to: model-011.model\\assets\n",
      "31/31 [==============================] - 64s 2s/step - loss: 0.0953 - accuracy: 0.9687 - val_loss: 0.1456 - val_accuracy: 0.9435\n",
      "Epoch 12/20\n",
      "31/31 [==============================] - 57s 2s/step - loss: 0.0942 - accuracy: 0.9687 - val_loss: 0.1558 - val_accuracy: 0.9476\n",
      "Epoch 13/20\n",
      "31/31 [==============================] - 61s 2s/step - loss: 0.0682 - accuracy: 0.9788 - val_loss: 0.2111 - val_accuracy: 0.9234\n",
      "Epoch 14/20\n",
      "31/31 [==============================] - 67s 2s/step - loss: 0.0670 - accuracy: 0.9727 - val_loss: 0.1482 - val_accuracy: 0.9556\n",
      "Epoch 15/20\n",
      "31/31 [==============================] - 52s 2s/step - loss: 0.0874 - accuracy: 0.9697 - val_loss: 0.1502 - val_accuracy: 0.9476\n",
      "Epoch 16/20\n",
      "31/31 [==============================] - 67s 2s/step - loss: 0.0485 - accuracy: 0.9848 - val_loss: 0.1927 - val_accuracy: 0.9355\n",
      "Epoch 17/20\n",
      "31/31 [==============================] - 64s 2s/step - loss: 0.0266 - accuracy: 0.9929 - val_loss: 0.1887 - val_accuracy: 0.9476\n",
      "Epoch 18/20\n",
      "31/31 [==============================] - 60s 2s/step - loss: 0.0233 - accuracy: 0.9949 - val_loss: 0.2100 - val_accuracy: 0.9476\n",
      "Epoch 19/20\n",
      "31/31 [==============================] - 64s 2s/step - loss: 0.0275 - accuracy: 0.9899 - val_loss: 0.1510 - val_accuracy: 0.9516\n",
      "Epoch 20/20\n",
      "31/31 [==============================] - 61s 2s/step - loss: 0.0650 - accuracy: 0.9737 - val_loss: 0.3185 - val_accuracy: 0.9194\n"
     ]
    }
   ],
   "source": [
    "checkpoint = ModelCheckpoint('model-{epoch:03d}.model',monitor='val_loss',verbose=0,save_best_only=True,mode='auto')\n",
    "history=model.fit(train_data,train_target,epochs=20,callbacks=[checkpoint],validation_split=0.2)"
   ]
  },
  {
   "cell_type": "code",
   "execution_count": 9,
   "id": "b15548ad",
   "metadata": {},
   "outputs": [
    {
     "data": {
      "image/png": "[encoded data removed]",
      "text/plain": [
       "<Figure size 432x288 with 1 Axes>"
      ]
     },
     "metadata": {
      "needs_background": "light"
     },
     "output_type": "display_data"
    }
   ],
   "source": [
    "from matplotlib import pyplot as plt\n",
    "\n",
    "plt.plot(history.history['loss'],'r',label='training loss')\n",
    "plt.plot(history.history['val_loss'],label='validation loss')\n",
    "plt.xlabel('# epochs')\n",
    "plt.ylabel('loss')\n",
    "plt.legend()\n",
    "plt.show()"
   ]
  },
  {
   "cell_type": "code",
   "execution_count": 10,
   "id": "36ea2387",
   "metadata": {},
   "outputs": [
    {
     "data": {
      "image/png": "[encoded data removed]",
      "text/plain": [
       "<Figure size 432x288 with 1 Axes>"
      ]
     },
     "metadata": {
      "needs_background": "light"
     },
     "output_type": "display_data"
    }
   ],
   "source": [
    "plt.plot(history.history['accuracy'],'r',label='training accuracy')\n",
    "plt.plot(history.history['val_accuracy'],label='validation accuracy')\n",
    "plt.xlabel('# epochs')\n",
    "plt.ylabel('loss')\n",
    "plt.legend()\n",
    "plt.show()"
   ]
  },
  {
   "cell_type": "code",
   "execution_count": 11,
   "id": "26407223",
   "metadata": {},
   "outputs": [
    {
     "name": "stdout",
     "output_type": "stream",
     "text": [
      "5/5 [==============================] - 2s 341ms/step - loss: 0.3047 - accuracy: 0.9203\n",
      "[0.3047008514404297, 0.9202898740768433]\n"
     ]
    }
   ],
   "source": [
    "print(model.evaluate(test_data,test_target))"
   ]
  },
  {
   "cell_type": "markdown",
   "id": "e2ccfb67",
   "metadata": {},
   "source": [
    "# Detecting Mask"
   ]
  },
  {
   "cell_type": "code",
   "execution_count": 12,
   "id": "6d189477",
   "metadata": {},
   "outputs": [],
   "source": [
    "from keras.models import load_model\n",
    "import cv2\n",
    "import numpy as np"
   ]
  },
  {
   "cell_type": "code",
   "execution_count": 13,
   "id": "5810dbd5",
   "metadata": {},
   "outputs": [],
   "source": [
    "model = load_model('model-020.model')\n",
    "\n",
    "face_clsfr=cv2.CascadeClassifier('haarcascade_frontalface_default.xml')\n",
    "\n",
    "source=cv2.VideoCapture(2)\n",
    "\n",
    "labels_dict={0:'MASK',1:'NO MASK'}\n",
    "color_dict={0:(0,255,0),1:(0,0,255)}"
   ]
  },
  {
   "cell_type": "code",
   "execution_count": null,
   "id": "664a7ab5",
   "metadata": {},
   "outputs": [],
   "source": [
    "while(True):\n",
    "\n",
    "    cap = cv2.VideoCapture(0)\n",
    "    ret,img=cap.read()\n",
    "    gray=cv2.cvtColor(img,cv2.COLOR_BGR2GRAY)\n",
    "    faces=face_clsfr.detectMultiScale(gray,1.3,5)  \n",
    "\n",
    "    for (x,y,w,h) in faces:\n",
    "    \n",
    "        face_img=gray[y:y+w,x:x+w]\n",
    "        resized=cv2.resize(face_img,(100,100))\n",
    "        normalized=resized/255.0\n",
    "        reshaped=np.reshape(normalized,(1,100,100,1))\n",
    "        result=model.predict(reshaped)\n",
    "\n",
    "        label=np.argmax(result,axis=1)[0]\n",
    "      \n",
    "        cv2.rectangle(img,(x,y),(x+w,y+h),color_dict[label],2)\n",
    "        cv2.rectangle(img,(x,y-40),(x+w,y),color_dict[label],-1)\n",
    "        cv2.putText(img, labels_dict[label], (x, y-10),cv2.FONT_HERSHEY_SIMPLEX,0.8,(255,255,255),2)\n",
    "        \n",
    "        \n",
    "    cv2.imshow('LIVE',img)\n",
    "    key=cv2.waitKey(1)\n",
    "    \n",
    "    if(key==27):\n",
    "        break\n",
    "        \n",
    "cv2.destroyAllWindows()\n",
    "source.release()"
   ]
  }
 ],
 "metadata": {
  "kernelspec": {
   "display_name": "Python 3",
   "language": "python",
   "name": "python3"
  },
  "language_info": {
   "codemirror_mode": {
    "name": "ipython",
    "version": 3
   },
   "file_extension": ".py",
   "mimetype": "text/x-python",
   "name": "python",
   "nbconvert_exporter": "python",
   "pygments_lexer": "ipython3",
   "version": "3.8.8"
  }
 },
 "nbformat": 4,
 "nbformat_minor": 5
}
